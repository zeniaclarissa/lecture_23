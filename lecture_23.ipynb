{
 "cells": [
  {
   "cell_type": "markdown",
   "id": "22df9ff0-4b08-4376-846e-14ba225cc79f",
   "metadata": {
    "editable": true,
    "slideshow": {
     "slide_type": "slide"
    },
    "tags": []
   },
   "source": [
    "# Lecture 23: Sharing and collaboration\n",
    "\n",
    "Start [VSCode download/install](https://code.visualstudio.com/)"
   ]
  },
  {
   "cell_type": "markdown",
   "id": "136f8db2-844c-4919-bad8-d685d48608ba",
   "metadata": {
    "editable": true,
    "slideshow": {
     "slide_type": "slide"
    },
    "tags": []
   },
   "source": [
    "- Largely live demo\n",
    "    - If everything works, it will be a miracle\n",
    "    - Thanks for your patience\n",
    "- Showing the recommended+supported path\n",
    "    - If you're comfortable with alternatives, can use those.\n",
    "- May feel like a whirlwind, just skimming the surface of these tools\n",
    "\n",
    "_Note to self: can demo with virtual machine (VM) in [Orka Desktop](https://www.macstadium.com/orka-desktop)._"
   ]
  },
  {
   "cell_type": "markdown",
   "id": "4cf36550-0ecf-4b93-8ec8-169f8192a3b4",
   "metadata": {
    "editable": true,
    "slideshow": {
     "slide_type": "slide"
    },
    "tags": []
   },
   "source": [
    "## Collaboration\n",
    "\n",
    "What might come up if working with other people on code/notebooks?"
   ]
  },
  {
   "cell_type": "markdown",
   "id": "09618334-b8e2-49b7-b4e6-a8f86211b203",
   "metadata": {
    "editable": true,
    "slideshow": {
     "slide_type": "slide"
    },
    "tags": []
   },
   "source": [
    "## Hosted notebooks"
   ]
  },
  {
   "cell_type": "markdown",
   "id": "1682137f-f3b7-4ac3-bd06-d1fc53d85fe4",
   "metadata": {
    "editable": true,
    "slideshow": {
     "slide_type": "subslide"
    },
    "tags": []
   },
   "source": [
    "[Jupyter can run on \"on your computer (“local”), or in the cloud somewhere.\"](lecture_15.ipynb#where-to-python)"
   ]
  },
  {
   "cell_type": "markdown",
   "id": "fa95220f-0edb-44ec-9028-ce873c851092",
   "metadata": {
    "editable": true,
    "slideshow": {
     "slide_type": "subslide"
    },
    "tags": []
   },
   "source": [
    "### [Google Colab](https://colab.research.google.com/)\n",
    "\n",
    "- [Free](https://research.google.com/colaboratory/faq.html#free-to-use)\n",
    "- Can [upload an existing notebook](https://research.google.com/colaboratory/faq.html#importing-notebooks)\n",
    "- [\"Virtual machines are deleted when idle for a while, and have a maximum lifetime\"](https://research.google.com/colaboratory/faq.html#executed-code)\n",
    "    - File storage is ephemeral\n",
    "- Supports mounting Google Drive\n",
    "- Comes with various packages pre-installed\n",
    "    - Can [install others](https://colab.research.google.com/notebooks/snippets/importing_libraries.ipynb)\n",
    "- [Support sharing, like other Drive files](https://research.google.com/colaboratory/faq.html#notebook-storage)"
   ]
  },
  {
   "cell_type": "markdown",
   "id": "30e5dd11-13a3-4b65-a4fa-66ea09c7df13",
   "metadata": {
    "editable": true,
    "slideshow": {
     "slide_type": "slide"
    },
    "tags": []
   },
   "source": [
    "## Integrated development environments (IDEs)\n",
    "\n",
    "- Like Notepad/TextEdit/Notes vs. Word\n",
    "    - Pros/cons?\n",
    "    - Jupyter is kinda halfway\n",
    "- Getting even more powerful with generative AI integrations"
   ]
  },
  {
   "cell_type": "markdown",
   "id": "77ff77d1-35b4-46ba-8e93-d0b2970db3e2",
   "metadata": {
    "editable": true,
    "jp-MarkdownHeadingCollapsed": true,
    "slideshow": {
     "slide_type": "subslide"
    },
    "tags": []
   },
   "source": [
    "### [Visual Studio Code (VSCode)](https://code.visualstudio.com/)\n",
    "\n",
    "_Note to self: Switch to `Computing in Context demo` [Profile](https://code.visualstudio.com/docs/editor/profiles)._"
   ]
  },
  {
   "cell_type": "markdown",
   "id": "6a3fdc24-8d2b-46e8-a02f-9aaf35c7b625",
   "metadata": {
    "editable": true,
    "slideshow": {
     "slide_type": "subslide"
    },
    "tags": []
   },
   "source": [
    "### Set up project\n",
    "\n",
    "1. Go to [open a folder/workspace](https://code.visualstudio.com/docs/editor/workspaces#_how-do-i-open-a-vs-code-workspace)\n",
    "1. Navigate to where you want it\n",
    "1. Click `New Folder`\n",
    "1. Name it something like `computing-in-context`"
   ]
  },
  {
   "cell_type": "markdown",
   "id": "ff1e55fe-dcb2-41f5-88d9-bcacc7454adb",
   "metadata": {
    "editable": true,
    "slideshow": {
     "slide_type": "subslide"
    },
    "tags": []
   },
   "source": [
    "### Create Python file\n",
    "\n",
    "1. [Create](https://code.visualstudio.com/docs/python/python-tutorial#_create-a-python-source-code-file) `test.py`\n",
    "1. [Install](https://code.visualstudio.com/docs/editor/extension-marketplace#_install-an-extension) [Python extension](https://marketplace.visualstudio.com/items?itemName=ms-python.python), if necessary\n",
    "1. Add code\n",
    "1. [Confirm](https://code.visualstudio.com/docs/python/environments#_select-and-activate-an-environment) it's using [Python installed via Anaconda](https://docs.anaconda.com/working-with-conda/ide-tutorials/python-path/)\n",
    "    - Can have multiple Pythons\n",
    "1. [Run script](https://code.visualstudio.com/docs/python/python-tutorial#_run-python-code)    \n",
    "1. Show:\n",
    "    1. Syntax issue\n",
    "    1. Unused `import`\n",
    "    1. Auto import"
   ]
  },
  {
   "cell_type": "markdown",
   "id": "85d41fd6-1168-4e3d-b03f-18e49a3cbb5a",
   "metadata": {
    "editable": true,
    "slideshow": {
     "slide_type": "slide"
    },
    "tags": []
   },
   "source": [
    "## Version control"
   ]
  },
  {
   "cell_type": "markdown",
   "id": "b6044e3f-f263-4980-b29a-f552cce6d9b6",
   "metadata": {
    "editable": true,
    "slideshow": {
     "slide_type": "subslide"
    },
    "tags": []
   },
   "source": [
    "When you're editing a file and make a mistake, what do you do?"
   ]
  },
  {
   "cell_type": "markdown",
   "id": "24ce3a8d-335f-4c2a-a7bf-cddeba6e8235",
   "metadata": {
    "editable": true,
    "slideshow": {
     "slide_type": "subslide"
    },
    "tags": []
   },
   "source": [
    "[Changes over time (history)](https://speakerdeck.com/aidanfeldman/git-graphically?slide=2)"
   ]
  },
  {
   "cell_type": "markdown",
   "id": "114fd385-3902-4af5-8ea4-79740b8e4109",
   "metadata": {
    "editable": true,
    "slideshow": {
     "slide_type": "fragment"
    },
    "tags": []
   },
   "source": [
    "Undo/redo are useful"
   ]
  },
  {
   "cell_type": "markdown",
   "id": "efc4eb4e-c664-4195-8e8b-31d15d84d1c1",
   "metadata": {
    "editable": true,
    "slideshow": {
     "slide_type": "subslide"
    },
    "tags": []
   },
   "source": [
    "How would you try out a change that touches multiple files?"
   ]
  },
  {
   "cell_type": "markdown",
   "id": "d32faa9f-649f-49ac-9a4b-49a9b3590b7f",
   "metadata": {
    "editable": true,
    "slideshow": {
     "slide_type": "subslide"
    },
    "tags": []
   },
   "source": [
    "[Branching](https://speakerdeck.com/aidanfeldman/git-graphically?slide=7)"
   ]
  },
  {
   "cell_type": "markdown",
   "id": "04867028-9c41-4168-862b-87e88954b91b",
   "metadata": {
    "editable": true,
    "slideshow": {
     "slide_type": "subslide"
    },
    "tags": []
   },
   "source": [
    "### Git\n",
    "\n",
    "1. In sidebar, click [Source Control](https://code.visualstudio.com/docs/sourcecontrol/overview)\n",
    "1. [Install Git](https://code.visualstudio.com/docs/sourcecontrol/overview#_working-in-a-git-repository), if necessary\n",
    "    - Many ways to install\n",
    "    - Mac: [Use Anaconda](notebooks.md#installing-packages)\n",
    "    - Windows: Use [Git for Windows](https://gitforwindows.org/)\n",
    "1. [Initialize repo](https://code.visualstudio.com/docs/sourcecontrol/overview#_initialize-a-repository)\n",
    "1. Go to [Explorer](https://code.visualstudio.com/docs/getstarted/userinterface#_explorer-view)\n",
    "1. Open [Terminal](https://code.visualstudio.com/docs/terminal/getting-started)\n",
    "    - Windows: [Use](https://code.visualstudio.com/docs/terminal/getting-started#_run-commands-in-another-shell) [Git BASH](https://gitforwindows.org/)\n",
    "1. Set global [name](https://docs.github.com/en/get-started/getting-started-with-git/setting-your-username-in-git) and [email](https://docs.github.com/en/account-and-profile/setting-up-and-managing-your-personal-account-on-github/managing-email-preferences/setting-your-commit-email-address#setting-your-commit-email-address-in-git) in Git\n",
    "    - Can confirm with:\n",
    "\n",
    "        ```sh\n",
    "        git config --global --list\n",
    "        ```\n",
    "        \n",
    "1. [Commit](https://code.visualstudio.com/docs/sourcecontrol/overview#_commit)\n",
    "    - \"No staged changes\" -> \"Always\""
   ]
  },
  {
   "cell_type": "markdown",
   "id": "36b4b254-b94c-4655-bb2d-ee403794474e",
   "metadata": {
    "editable": true,
    "slideshow": {
     "slide_type": "slide"
    },
    "tags": []
   },
   "source": [
    "## Command line\n",
    "\n",
    "- UNIX vs. Windows\n",
    "- [Git BASH](https://gitforwindows.org/)"
   ]
  },
  {
   "cell_type": "markdown",
   "id": "1b7d354e-3d74-4c9a-8045-cd6fc2e68908",
   "metadata": {
    "editable": true,
    "slideshow": {
     "slide_type": "slide"
    },
    "tags": []
   },
   "source": [
    "## Create notebook\n",
    "\n",
    "1. Create file `project_3.ipynb`\n",
    "1. [Select kernel](https://code.visualstudio.com/docs/datascience/jupyter-notebooks#_create-or-open-a-jupyter-notebook)\n",
    "    1. Click `Install suggested extensions`, if it asks.\n",
    "    1. Click `Python Environments…`\n",
    "    1. Select [Python installed via Anaconda](https://docs.anaconda.com/working-with-conda/ide-tutorials/python-path/)\n",
    "1. Commit\n",
    "\n",
    "Hold onto this repository; you'll use it through the end of the course."
   ]
  },
  {
   "cell_type": "markdown",
   "id": "5bcee982-abd9-4bc0-8fcc-12ca5a11a838",
   "metadata": {
    "editable": true,
    "slideshow": {
     "slide_type": "slide"
    },
    "tags": []
   },
   "source": [
    "Will get more into some of these things in more detail in [Advanced Computing for Policy](https://docs.google.com/document/d/14hGiU8LP0vosSnaT2z_3BYIQM1S4stPN/edit)"
   ]
  }
 ],
 "metadata": {
  "kernelspec": {
   "display_name": "Python [conda env:computing-in-context] *",
   "language": "python",
   "name": "conda-env-computing-in-context-py"
  },
  "language_info": {
   "codemirror_mode": {
    "name": "ipython",
    "version": 3
   },
   "file_extension": ".py",
   "mimetype": "text/x-python",
   "name": "python",
   "nbconvert_exporter": "python",
   "pygments_lexer": "ipython3",
   "version": "3.12.7"
  }
 },
 "nbformat": 4,
 "nbformat_minor": 5
}
